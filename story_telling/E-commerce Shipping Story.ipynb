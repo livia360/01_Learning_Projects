{
 "cells": [
  {
   "cell_type": "markdown",
   "id": "e9db4945",
   "metadata": {},
   "source": [
    "## Introduction   "
   ]
  },
  {
   "cell_type": "markdown",
   "id": "c177fc5e",
   "metadata": {},
   "source": [
    "### What is ecommerce shipping?\n",
    "     \n",
    " - For ecommerce, the shipping process involves may services from receiving a customer order to the customer's delivery destination. The right e-commerce shipping strategy will depends on your customers, products and a variety of other factors.\n",
    "     \n",
    " - Not every delivery goes according to plan. Unexpected delays are part of supply chain and consumers are less tolerant of delays than ever before, and rightfully so because the pace of technology and innovation is very much up for the challenge. To offer the reliable and effective shipping solution will help the business be profitable in the competition of ecommerce.  "
   ]
  },
  {
   "cell_type": "markdown",
   "id": "d9eab498",
   "metadata": {},
   "source": [
    "### Data\n",
    "\n",
    "- The small dataset is taken from kaggle and contains the following information:\n",
    "\n",
    "    - ID: ID Number of Customers.\n",
    "    - Warehouse block: The Company have big Warehouse which is divided in to block such as A,B,C,D,E.\n",
    "    - Mode of shipment:The Company Ships the products in multiple way such as Ship, Flight and Road.\n",
    "    - Customer care calls: The number of calls made from enquiry for enquiry of the shipment.\n",
    "    - Customer rating: The company has rated from every customer. 1 is the lowest (Worst), 5 is the highest (Best).\n",
    "    - Cost of the product: Cost of the Product in US Dollars.\n",
    "    - Prior purchases: The Number of Prior Purchase.\n",
    "    - Product importance: The company has categorized the product in the various parameter such as low, medium, high.\n",
    "    - Gender: Male and Female.\n",
    "    - Discount offered: Discount offered on that specific product.\n",
    "    - Weight in gms: It is the weight in grams.\n",
    "    - Reached on time: It's the target variable, where 1 Indicates on time shipment and 0 not on time.\n",
    "- 'csv' file: 'shipping.csv' (https://www.kaggle.com/code/ravillatejakumar/e-commerce-shipping-eda/data)"
   ]
  },
  {
   "cell_type": "markdown",
   "id": "2efcd631",
   "metadata": {},
   "source": [
    "### Business problem to solve \n",
    " \n",
    "- An international e-commerce company wants to discover key insights from customer study to optimize shipping. The company sells electronic products and wants to identify what factors account for shipment delay. \n",
    "- To help the business find the solution, this notebook will use different ML techniques to build an effective predictive model.\n",
    "- We are hoping to learn more from this data and thus explore its impact on predicting future shipping. "
   ]
  },
  {
   "cell_type": "markdown",
   "id": "c78464ee",
   "metadata": {},
   "source": [
    "## Import Libraries and Data"
   ]
  },
  {
   "cell_type": "code",
   "execution_count": null,
   "id": "6fed6df8",
   "metadata": {},
   "outputs": [],
   "source": [
    "# import libraries\n",
    "import pandas as pd\n",
    "import matplotlib.pyplot as plt\n",
    "import seaborn as sns\n",
    "\n",
    "\n",
    "%matplotlib inline\n",
    "sns.set(style=\"darkgrid\") # sns.set()\n",
    "\n",
    "import warnings\n",
    "warnings.filterwarnings('ignore')\n",
    "from sklearn.pipeline import make_pipeline\n",
    "from sklearn.model_selection import train_test_split\n",
    "from sklearn.preprocessing import scale, StandardScaler\n",
    "from sklearn.impute import SimpleImputer\n",
    "from sklearn.dummy import DummyClassifier\n",
    "from sklearn.linear_model import LogisticRegression\n",
    "from sklearn.ensemble import RandomForestClassifier\n",
    "from sklearn.metrics import classification_report, confusion_matrix, roc_curve, roc_auc_score, ConfusionMatrixDisplay"
   ]
  },
  {
   "cell_type": "code",
   "execution_count": null,
   "id": "4ff0285e",
   "metadata": {},
   "outputs": [],
   "source": [
    "# load the data\n",
    "df = pd.read_csv('Data/shipping.csv')"
   ]
  },
  {
   "cell_type": "code",
   "execution_count": null,
   "id": "b7d47ae2",
   "metadata": {},
   "outputs": [],
   "source": [
    "df.head()"
   ]
  },
  {
   "cell_type": "code",
   "execution_count": null,
   "id": "bb33b421",
   "metadata": {
    "scrolled": true
   },
   "outputs": [],
   "source": [
    "#Get a summary of the dataset and check data types\n",
    "df.info()"
   ]
  },
  {
   "cell_type": "code",
   "execution_count": null,
   "id": "f4b22f79",
   "metadata": {},
   "outputs": [],
   "source": [
    "# get statistic summary\n",
    "df.describe()"
   ]
  },
  {
   "cell_type": "code",
   "execution_count": null,
   "id": "0cadeea1",
   "metadata": {},
   "outputs": [],
   "source": [
    "df['Mode_of_Shipment'].value_counts()"
   ]
  },
  {
   "cell_type": "code",
   "execution_count": null,
   "id": "ca9f35fa",
   "metadata": {
    "scrolled": true
   },
   "outputs": [],
   "source": [
    "# Check for missing values in dataset\n",
    "print('dataset : missing {}'.format(df.isnull().any()))"
   ]
  },
  {
   "cell_type": "markdown",
   "id": "7825dc08",
   "metadata": {},
   "source": [
    "We see the dataset:\n",
    " - Very clean\n",
    " - No missing value "
   ]
  },
  {
   "cell_type": "markdown",
   "id": "1b0febfb",
   "metadata": {},
   "source": [
    "## Data Visualization "
   ]
  },
  {
   "cell_type": "code",
   "execution_count": null,
   "id": "11a05ec2",
   "metadata": {},
   "outputs": [],
   "source": [
    "# 'Warehouse_block'\n",
    "plt.figure(figsize=(9,6))\n",
    "sns.countplot(x='Warehouse_block', data=df, hue='Reached.on.Time_Y.N')\n",
    "plt.xticks(range(5),['A','B','C','D','F'],fontsize=14,horizontalalignment='right')\n",
    "plt.title('On-time Status by Warehouse_Block', fontsize=14);"
   ]
  },
  {
   "cell_type": "code",
   "execution_count": null,
   "id": "ae4722ad",
   "metadata": {},
   "outputs": [],
   "source": [
    "from mdutils.mdutils import MdUtils\n",
    "image_text = \"ship\"\n",
    "mdFile = MdUtils(file_name='README.md',title=\"Predict customers' response to the marketing champaign\")\n",
    "mdFile.create_md_file()\n",
    "\n",
    "path = \"./images/shipping.jpg\"\n",
    "mdFile.new_line(mdFile.new_inline_image(text=image_text, path=path))"
   ]
  },
  {
   "cell_type": "code",
   "execution_count": null,
   "id": "28e622af",
   "metadata": {
    "scrolled": false
   },
   "outputs": [],
   "source": [
    "# 'Mode_of_Shipment'\n",
    "plt.figure(figsize=(9,6))\n",
    "sns.countplot(x='Mode_of_Shipment', data=df, hue='Reached.on.Time_Y.N')\n",
    "plt.title('On-time Status by Mode_of_Shipment', fontsize=14);"
   ]
  },
  {
   "cell_type": "markdown",
   "id": "427edc51",
   "metadata": {},
   "source": [
    " - As shown in the graph above, comparing to 'flight' and 'road', moving freight using 'cargo ship' on the oceans is the most lucrative trade route.  Due to the pandemic in March 2020, many industries have experienced supply-and-demand challenges. It got even worse when the Ever Given container ship block the Suez Canal for six days in March, 2021. There is more demand for goods to move around the globe, especially as a number of ports are still closed due to Covid outbreaks. \n",
    " - Global shipping logistics firms are benefiting from this trend as trucking and flights are limited due to quarantine rules and travel restrictions.  "
   ]
  },
  {
   "cell_type": "code",
   "execution_count": null,
   "id": "5905b65c",
   "metadata": {},
   "outputs": [],
   "source": [
    "# 'Customer_rating'\n",
    "plt.figure(figsize=(9,6))\n",
    "sns.countplot(x='Customer_rating', data=df, hue='Reached.on.Time_Y.N')\n",
    "plt.title('On-time Status by Customer_rating', fontsize=14);"
   ]
  },
  {
   "cell_type": "code",
   "execution_count": null,
   "id": "4b187ca9",
   "metadata": {
    "scrolled": false
   },
   "outputs": [],
   "source": [
    "# 'Product_importance'\n",
    "plt.figure(figsize=(9,6))\n",
    "sns.countplot(x='Product_importance', data=df, hue='Reached.on.Time_Y.N')\n",
    "plt.title('On-time Status by Product_importance', fontsize=14);"
   ]
  },
  {
   "cell_type": "code",
   "execution_count": null,
   "id": "f8eb4498",
   "metadata": {},
   "outputs": [],
   "source": [
    "# 'Gender'\n",
    "plt.figure(figsize=(9,6))\n",
    "sns.countplot(x='Gender', data=df, hue='Reached.on.Time_Y.N')\n",
    "plt.title('On-time Status by Gender', fontsize=14);"
   ]
  },
  {
   "cell_type": "code",
   "execution_count": null,
   "id": "33506510",
   "metadata": {},
   "outputs": [],
   "source": [
    "# 'Cost_of_the_Product'\n",
    "plt.figure(figsize=(9,6))\n",
    "sns.boxplot(y='Cost_of_the_Product', x='Reached.on.Time_Y.N', data=df)\n",
    "plt.title('Cost_of_the_Product for Shippment', fontsize=14);"
   ]
  },
  {
   "cell_type": "code",
   "execution_count": null,
   "id": "427169c6",
   "metadata": {},
   "outputs": [],
   "source": [
    "# 'Prior_purchases'\n",
    "plt.figure(figsize=(9,6))\n",
    "sns.boxplot(y='Prior_purchases', x='Reached.on.Time_Y.N', data=df)\n",
    "plt.title('Prior_purchases for Shippment', fontsize=14);"
   ]
  },
  {
   "cell_type": "code",
   "execution_count": null,
   "id": "b7704c3c",
   "metadata": {
    "scrolled": true
   },
   "outputs": [],
   "source": [
    "# 'Discount_offered'\n",
    "plt.figure(figsize=(9,6))\n",
    "sns.boxplot(y='Discount_offered', x='Reached.on.Time_Y.N', data=df)\n",
    "plt.title('Discount_offered for Shippment', fontsize=14);"
   ]
  },
  {
   "cell_type": "markdown",
   "id": "144bf85a",
   "metadata": {},
   "source": [
    "- Based on the graph above, shipment with more 'Discount_offered'  tends to be on time. When discounts are available, there could be a surge in shipments. Shipping discounts are volume-based, meaning that small businesses who only ship a small quantity of packages will not qualify for shipping discounts while larger businesses shipping thousands of packages a day will be able to benefit from volume-dependent shipping discounts provided by the shipping providers.   "
   ]
  },
  {
   "cell_type": "code",
   "execution_count": null,
   "id": "6bccf77e",
   "metadata": {
    "scrolled": false
   },
   "outputs": [],
   "source": [
    "# 'Weight_in_gms'\n",
    "plt.figure(figsize=(9,6))\n",
    "sns.boxplot(y='Weight_in_gms', x='Reached.on.Time_Y.N', data=df)\n",
    "plt.title('Weight_in_gms for Shippment', fontsize=14);"
   ]
  },
  {
   "cell_type": "markdown",
   "id": "73d7877f",
   "metadata": {},
   "source": [
    " - Based on the graph, the heavier goods have more volatile transit times and more delays due to many factors, such as container ships wait offshore, sometimes for months, because ports don’t have the capacity — the longshoremen, the warehouse staff, the customs inspectors, the maintenance crews — to unload ships any faster. . Along the global ecommerce boom, if you get frustrated and see a little warning about shipping delays at the top of a website and are told that “the supply chain” is at fault, it’s easy to imagine those problems as backed-up container ships or depleted fleets of semitrucks ..."
   ]
  },
  {
   "cell_type": "markdown",
   "id": "2f5d121d",
   "metadata": {},
   "source": [
    "## Data Preprocessing\n",
    "### Encoding categorical features"
   ]
  },
  {
   "cell_type": "code",
   "execution_count": null,
   "id": "edf5f17a",
   "metadata": {},
   "outputs": [],
   "source": [
    "df_encoded = pd.get_dummies(df, columns=['Warehouse_block', 'Mode_of_Shipment', 'Product_importance', 'Gender'], drop_first=True)"
   ]
  },
  {
   "cell_type": "code",
   "execution_count": null,
   "id": "f423aaf6",
   "metadata": {},
   "outputs": [],
   "source": [
    "df_encoded.info()"
   ]
  },
  {
   "cell_type": "markdown",
   "id": "c7a987dc",
   "metadata": {},
   "source": [
    "### Correlations between features"
   ]
  },
  {
   "cell_type": "code",
   "execution_count": null,
   "id": "b348ce92",
   "metadata": {},
   "outputs": [],
   "source": [
    "corr = df_encoded.corr()\n",
    "plt.figure(figsize=(9,9))\n",
    "sns.heatmap(corr, annot=True,cmap=\"viridis\",  fmt='.2f', annot_kws={\"size\": 10});"
   ]
  },
  {
   "cell_type": "markdown",
   "id": "14519001",
   "metadata": {},
   "source": [
    " - the 'Customer_care_calls' seems to be closely related to 'Prior_purchases', one of them which will be dropped."
   ]
  },
  {
   "cell_type": "markdown",
   "id": "9609511e",
   "metadata": {},
   "source": [
    "## Modeling"
   ]
  },
  {
   "cell_type": "markdown",
   "id": "a0feac03",
   "metadata": {},
   "source": [
    "I want to try out several different models and compare which model works best.\n",
    "Start with a very simple model, a dummy classifier. Then compare with logistic regression and random forest classifiers."
   ]
  },
  {
   "cell_type": "markdown",
   "id": "2583612a",
   "metadata": {},
   "source": [
    "### Train/Test split"
   ]
  },
  {
   "cell_type": "code",
   "execution_count": null,
   "id": "d4c225f9",
   "metadata": {},
   "outputs": [],
   "source": [
    "#Split dataset into target and features\n",
    "X = df_encoded.drop(['ID', 'Customer_care_calls', 'Reached.on.Time_Y.N'], axis=1)\n",
    "y = df_encoded['Reached.on.Time_Y.N']\n",
    "\n",
    "X_train, X_test, y_train, y_test = train_test_split(X,y, test_size = 0.3, random_state = 42) # stratify = df[\"Reached.on.Time_Y.N\"]\n",
    "\n",
    "print(X_train.shape)\n",
    "print(X_test.shape)\n",
    "print(y_train.shape)\n",
    "print(y_test.shape)\n",
    "\n"
   ]
  },
  {
   "cell_type": "code",
   "execution_count": null,
   "id": "4a9947ea",
   "metadata": {},
   "outputs": [],
   "source": [
    "train_columns = X_train.columns\n",
    "print(train_columns)"
   ]
  },
  {
   "cell_type": "markdown",
   "id": "ccb3a044",
   "metadata": {},
   "source": [
    "### Simple classifier"
   ]
  },
  {
   "cell_type": "code",
   "execution_count": null,
   "id": "31ddddff",
   "metadata": {},
   "outputs": [],
   "source": [
    "dclf = DummyClassifier(random_state=42)\n",
    "dclf.fit(X_train, y_train)\n",
    "y_pred = dclf.predict(X_test)\n",
    "\n",
    "print(classification_report(y_pred, y_test))\n",
    "print(confusion_matrix(y_pred, y_test))"
   ]
  },
  {
   "cell_type": "code",
   "execution_count": null,
   "id": "6605740c",
   "metadata": {},
   "outputs": [],
   "source": [
    "### Scaling\n",
    "#Gradient descent and distance based algorithms require features to be scaled, such as logistic regression and gradient boosting. On the other hand, tree based algorithms are not required by scaling, such as random forest model."
   ]
  },
  {
   "cell_type": "code",
   "execution_count": null,
   "id": "fd6de989",
   "metadata": {},
   "outputs": [],
   "source": [
    "# scaler = StandardScaler()\n",
    "# X_train = scaler.fit_transform(X_train)\n",
    "# X_test = scaler.transform(X_test)"
   ]
  },
  {
   "cell_type": "markdown",
   "id": "e4bed960",
   "metadata": {},
   "source": [
    "### Logistic Regression"
   ]
  },
  {
   "cell_type": "code",
   "execution_count": null,
   "id": "7305200e",
   "metadata": {},
   "outputs": [],
   "source": [
    "# for a binary problem ==> Logistic Regression is used\n",
    "lr = LogisticRegression(random_state=42) # class_weight = 'balanced'\n",
    "\n",
    "#Build grid cearch for hyperparameter optimization\n",
    "from sklearn.model_selection import GridSearchCV\n",
    "parameters = {'C':[0.001, 0.01, 0.1], \n",
    "             'tol':[1e-5, 1e-4, 1e-3]}\n",
    "\n",
    "clf = GridSearchCV(lr, parameters, cv=5, scoring='roc_auc')\n",
    "clf.fit(X_train, y_train)\n",
    "y_pred = clf.predict(X_test)\n",
    "print(clf.best_params_)\n",
    "print(clf.best_score_)"
   ]
  },
  {
   "cell_type": "code",
   "execution_count": null,
   "id": "ce8456a2",
   "metadata": {},
   "outputs": [],
   "source": [
    "lr = LogisticRegression(C=0.01, tol=1e-5, random_state=42)\n",
    "lr.fit(X_train, y_train)\n",
    "y_pred = lr.predict(X_test)"
   ]
  },
  {
   "cell_type": "code",
   "execution_count": null,
   "id": "940ac512",
   "metadata": {
    "scrolled": true
   },
   "outputs": [],
   "source": [
    "print(classification_report(y_pred, y_test))\n",
    "print(confusion_matrix(y_pred, y_test))"
   ]
  },
  {
   "cell_type": "code",
   "execution_count": null,
   "id": "3baa0183",
   "metadata": {},
   "outputs": [],
   "source": [
    "cf=confusion_matrix(y_test, y_pred)\n",
    "\n",
    "ConfusionMatrixDisplay(cf).plot(cmap='Blues')\n",
    "plt.grid(False)\n",
    "plt.show();"
   ]
  },
  {
   "cell_type": "code",
   "execution_count": null,
   "id": "2daf30c1",
   "metadata": {},
   "outputs": [],
   "source": [
    "# Compute predicted probabilities: y_pred_prob\n",
    "y_pred_prob = lr.predict_proba(X_test)[:,1]\n",
    "\n",
    "# Compute and print AUC score\n",
    "print(\"ROC_AUC: {}\".format(roc_auc_score(y_test, y_pred_prob)))\n",
    "\n",
    "# Generate ROC curve values: fpr, tpr, thresholds\n",
    "fpr, tpr, thresholds = roc_curve(y_test, y_pred_prob)\n",
    "\n",
    "# Plot ROC curve\n",
    "plt.plot([0, 1], [0, 1], 'r--')\n",
    "plt.plot(fpr, tpr)\n",
    "plt.xlabel('False Positive Rate')\n",
    "plt.ylabel('True Positive Rate')\n",
    "plt.title('ROC Curve')\n",
    "plt.show();"
   ]
  },
  {
   "cell_type": "code",
   "execution_count": null,
   "id": "25315437",
   "metadata": {
    "scrolled": true
   },
   "outputs": [],
   "source": [
    "#Explore feature importance \n",
    "coefficients = abs(lr.coef_).transpose()\n",
    "features = X.columns\n",
    "feature_importance = {}\n",
    "for i, coef in enumerate(coefficients):\n",
    "    feature_importance[features[i]] = coef\n",
    "    \n",
    "feature_importance_df = pd.DataFrame.from_dict(feature_importance, orient='index', columns=['feature_importance'])\n",
    "feature_importance_df.sort_values('feature_importance', ascending=False).head()"
   ]
  },
  {
   "cell_type": "markdown",
   "id": "8ce502be",
   "metadata": {},
   "source": [
    "### Random Forest"
   ]
  },
  {
   "cell_type": "code",
   "execution_count": null,
   "id": "13baff6f",
   "metadata": {},
   "outputs": [],
   "source": [
    "RF_pipe = make_pipeline(\n",
    "    SimpleImputer(strategy='median'),\n",
    "    RandomForestClassifier(random_state=42)\n",
    ")\n",
    "n_est =  [10,20,40,50]\n",
    "# 'randomforestclassifier__max_depth':[1,3,5,10]\n",
    "grid_params = {'randomforestclassifier__n_estimators': n_est}\n",
    "#dict for parameters to evaluate, 5-fold cross-validation\n",
    "rf_grid_cv = GridSearchCV(RF_pipe, grid_params, cv=5, scoring='roc_auc', n_jobs=-1, verbose=1)\n",
    "rf_grid_cv.fit(X_train, y_train)"
   ]
  },
  {
   "cell_type": "code",
   "execution_count": null,
   "id": "845d7a45",
   "metadata": {},
   "outputs": [],
   "source": [
    "print(\"Best Score:\" + str(rf_grid_cv.best_score_))\n",
    "print(\"Best Parameters: \" + str(rf_grid_cv.best_params_))"
   ]
  },
  {
   "cell_type": "code",
   "execution_count": null,
   "id": "02532ed7",
   "metadata": {},
   "outputs": [],
   "source": [
    "# Fit the model based on the best number of estimators.\n",
    "rf = RandomForestClassifier(n_estimators=20, max_depth=3, random_state=42)\n",
    "rf.fit(X_train, y_train)\n",
    "y_pred = rf.predict(X_test)"
   ]
  },
  {
   "cell_type": "code",
   "execution_count": null,
   "id": "560420ae",
   "metadata": {
    "scrolled": false
   },
   "outputs": [],
   "source": [
    "# plot confusion matrix\n",
    "print(confusion_matrix(y_test, y_pred))\n",
    "print(classification_report(y_test, y_pred))\n",
    "cf = confusion_matrix(y_test,y_pred)\n",
    "ConfusionMatrixDisplay(cf).plot(cmap='Blues')\n",
    "plt.grid(False)\n",
    "plt.show();"
   ]
  },
  {
   "cell_type": "code",
   "execution_count": null,
   "id": "313c682d",
   "metadata": {},
   "outputs": [],
   "source": [
    "# Compute predicted probabilities: y_pred_prob\n",
    "y_pred_prob = rf.predict_proba(X_test)[:,1]\n",
    "\n",
    "# Compute and print AUC score\n",
    "print(\"ROC_AUC: {}\".format(roc_auc_score(y_test, y_pred_prob)))\n",
    "\n",
    "# Generate ROC curve values: fpr, tpr, thresholds\n",
    "fpr, tpr, thresholds = roc_curve(y_test, y_pred_prob)\n",
    "\n",
    "# Plot ROC curve\n",
    "plt.plot([0, 1], [0, 1], 'r--')\n",
    "plt.plot(fpr, tpr)\n",
    "plt.xlabel('False Positive Rate')\n",
    "plt.ylabel('True Positive Rate')\n",
    "plt.title('ROC Curve')\n",
    "plt.show();"
   ]
  },
  {
   "cell_type": "code",
   "execution_count": null,
   "id": "2eda16c2",
   "metadata": {
    "scrolled": true
   },
   "outputs": [],
   "source": [
    "plt.subplots(figsize=(10, 5))\n",
    "imps = rf_grid_cv.best_estimator_.named_steps.randomforestclassifier.feature_importances_\n",
    "rf_feat_imps = pd.Series(imps, index=train_columns).sort_values(ascending=False)\n",
    "rf_feat_imps[:5].plot(kind='bar')\n",
    "plt.xlabel('features')\n",
    "plt.ylabel('importance')\n",
    "plt.title('Random Forest Classifier Feature Importances', fontsize=14);"
   ]
  },
  {
   "cell_type": "markdown",
   "id": "f4c1fac4",
   "metadata": {},
   "source": [
    "## Conclusions\n",
    "\n",
    "   - The dataset is more than just rows and columns. The story behind the dataset can point you to the resources to plan the shipping strategy.\n",
    "   \n",
    "   - Based on the results of ML models, several factors with large impact on the shipping are identified as follows:\n",
    "       - Weight_in_gms\n",
    "       - Discount_offered\n",
    "       - Cost_of_the_Product\n",
    "       - Prior_purchases\n",
    "       - Customer_rating\n",
    "       \n",
    "   - Besides, we all know the common reasons for delays, such as:\n",
    "       - Bad weather\n",
    "       - High Peak seasons\n",
    "       - Heavy Traffics\n",
    "       \n",
    "   - Behind the scenes, there are a lot of moving parts operating. Warehouses, delivery and pick up agents, documentation departments all perform together to deliver the freight.  Data science is transforming and benefiting eCommerce businesses immensely. And tech experts are constantly trying to find innovative ways to leverage the newest data collected and drive the business growth. "
   ]
  }
 ],
 "metadata": {
  "kernelspec": {
   "display_name": "Python 3",
   "language": "python",
   "name": "python3"
  },
  "language_info": {
   "codemirror_mode": {
    "name": "ipython",
    "version": 3
   },
   "file_extension": ".py",
   "mimetype": "text/x-python",
   "name": "python",
   "nbconvert_exporter": "python",
   "pygments_lexer": "ipython3",
   "version": "3.7.11"
  },
  "toc": {
   "base_numbering": 1,
   "nav_menu": {},
   "number_sections": false,
   "sideBar": true,
   "skip_h1_title": true,
   "title_cell": "Table of Contents",
   "title_sidebar": "Contents",
   "toc_cell": false,
   "toc_position": {},
   "toc_section_display": true,
   "toc_window_display": false
  }
 },
 "nbformat": 4,
 "nbformat_minor": 5
}
