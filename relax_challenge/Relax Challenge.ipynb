{
 "cells": [
  {
   "cell_type": "markdown",
   "id": "7743146a",
   "metadata": {},
   "source": [
    "# Relax Inc.  Take Home Assignment\n",
    "\n",
    "The  data is available as two attached CSV  files:\n",
    " -  'takehome_user_engagement.csv'\n",
    " -  'takehome_users.csv'\n",
    "\n",
    " The data has the following two tables:\",\n",
    "    1. A user table (\"takehome_users.csv\") with data on 12,000 users who signed up for the product in the last two years. This table includes:,\n",
    "       - name: the user's name\n",
    "       - object_id: the user's id\n",
    "       - email: email address\n",
    "       - creation_source: how their account was created.\n",
    "           This takes on one of 5 values:\n",
    "            - PERSONAL_PROJECTS: invited to join another user's personal workspace\n",
    "            - GUEST_INVITE: invited to an organization as a guest (limited permissions)\n",
    "            - ORG_INVITE: invited to an organization (as a full member)\n",
    "            - SIGNUP: signed up via the website\n",
    "            - SIGNUP_GOOGLE_AUTH: signed up using Google Authentication (using a Google email account for their login id)\n",
    "       - creation_time: when they created their account\n",
    "       - last_session_creation_time: unix timestamp of last login\n",
    "       - opted_in_to_mailing_list: whether they have opted into receiving marketing emails\n",
    "       - enabled_for_marketing_drip: whether they are on the regular marketing email drip\n",
    "       - org_id: the organization (group of users) they belong to\n",
    "       - invited_by_user_id: which user invited them to join (if applicable)\n",
    "       \n",
    "   2. A usage summary table (\"takehome_user_engagement.csv\") that has a row for each day that a user logged into the product.\n",
    "      Defining an \"adopted user\" as a user who has logged into the product on three separate days in at least one seven-day period.\n",
    "   3. Business problem: to identify which factors predict future user adoption."
   ]
  },
  {
   "cell_type": "markdown",
   "id": "bfc4b0a1",
   "metadata": {},
   "source": [
    "### Load Libraries and Data"
   ]
  },
  {
   "cell_type": "code",
   "execution_count": 1,
   "id": "1702de92",
   "metadata": {},
   "outputs": [],
   "source": [
    "# import libraries\n",
    "import pandas as pd\n",
    "import matplotlib.pyplot as plt\n",
    "import seaborn as sns\n",
    "\n",
    "sns.set()\n",
    "%matplotlib inline\n",
    "\n",
    "from sklearn.model_selection import train_test_split\n",
    "from sklearn.linear_model import LogisticRegression \n",
    "from sklearn.metrics import classification_report, confusion_matrix, roc_curve, roc_auc_score, ConfusionMatrixDisplay"
   ]
  },
  {
   "cell_type": "code",
   "execution_count": 2,
   "id": "5f5b27c9",
   "metadata": {},
   "outputs": [],
   "source": [
    "import warnings\n",
    "warnings.filterwarnings('ignore')"
   ]
  },
  {
   "cell_type": "code",
   "execution_count": 3,
   "id": "f8da85cf",
   "metadata": {},
   "outputs": [],
   "source": [
    "# load the data\n",
    "users = pd.read_csv('takehome_users.csv', encoding='latin-1')\n",
    "engagement = pd.read_csv('takehome_user_engagement.csv')"
   ]
  },
  {
   "cell_type": "code",
   "execution_count": 4,
   "id": "95cc911b",
   "metadata": {},
   "outputs": [
    {
     "data": {
      "text/html": [
       "<div>\n",
       "<style scoped>\n",
       "    .dataframe tbody tr th:only-of-type {\n",
       "        vertical-align: middle;\n",
       "    }\n",
       "\n",
       "    .dataframe tbody tr th {\n",
       "        vertical-align: top;\n",
       "    }\n",
       "\n",
       "    .dataframe thead th {\n",
       "        text-align: right;\n",
       "    }\n",
       "</style>\n",
       "<table border=\"1\" class=\"dataframe\">\n",
       "  <thead>\n",
       "    <tr style=\"text-align: right;\">\n",
       "      <th></th>\n",
       "      <th>object_id</th>\n",
       "      <th>creation_time</th>\n",
       "      <th>name</th>\n",
       "      <th>email</th>\n",
       "      <th>creation_source</th>\n",
       "      <th>last_session_creation_time</th>\n",
       "      <th>opted_in_to_mailing_list</th>\n",
       "      <th>enabled_for_marketing_drip</th>\n",
       "      <th>org_id</th>\n",
       "      <th>invited_by_user_id</th>\n",
       "    </tr>\n",
       "  </thead>\n",
       "  <tbody>\n",
       "    <tr>\n",
       "      <th>0</th>\n",
       "      <td>1</td>\n",
       "      <td>2014-04-22 03:53:30</td>\n",
       "      <td>Clausen August</td>\n",
       "      <td>AugustCClausen@yahoo.com</td>\n",
       "      <td>GUEST_INVITE</td>\n",
       "      <td>1.398139e+09</td>\n",
       "      <td>1</td>\n",
       "      <td>0</td>\n",
       "      <td>11</td>\n",
       "      <td>10803.0</td>\n",
       "    </tr>\n",
       "    <tr>\n",
       "      <th>1</th>\n",
       "      <td>2</td>\n",
       "      <td>2013-11-15 03:45:04</td>\n",
       "      <td>Poole Matthew</td>\n",
       "      <td>MatthewPoole@gustr.com</td>\n",
       "      <td>ORG_INVITE</td>\n",
       "      <td>1.396238e+09</td>\n",
       "      <td>0</td>\n",
       "      <td>0</td>\n",
       "      <td>1</td>\n",
       "      <td>316.0</td>\n",
       "    </tr>\n",
       "    <tr>\n",
       "      <th>2</th>\n",
       "      <td>3</td>\n",
       "      <td>2013-03-19 23:14:52</td>\n",
       "      <td>Bottrill Mitchell</td>\n",
       "      <td>MitchellBottrill@gustr.com</td>\n",
       "      <td>ORG_INVITE</td>\n",
       "      <td>1.363735e+09</td>\n",
       "      <td>0</td>\n",
       "      <td>0</td>\n",
       "      <td>94</td>\n",
       "      <td>1525.0</td>\n",
       "    </tr>\n",
       "    <tr>\n",
       "      <th>3</th>\n",
       "      <td>4</td>\n",
       "      <td>2013-05-21 08:09:28</td>\n",
       "      <td>Clausen Nicklas</td>\n",
       "      <td>NicklasSClausen@yahoo.com</td>\n",
       "      <td>GUEST_INVITE</td>\n",
       "      <td>1.369210e+09</td>\n",
       "      <td>0</td>\n",
       "      <td>0</td>\n",
       "      <td>1</td>\n",
       "      <td>5151.0</td>\n",
       "    </tr>\n",
       "    <tr>\n",
       "      <th>4</th>\n",
       "      <td>5</td>\n",
       "      <td>2013-01-17 10:14:20</td>\n",
       "      <td>Raw Grace</td>\n",
       "      <td>GraceRaw@yahoo.com</td>\n",
       "      <td>GUEST_INVITE</td>\n",
       "      <td>1.358850e+09</td>\n",
       "      <td>0</td>\n",
       "      <td>0</td>\n",
       "      <td>193</td>\n",
       "      <td>5240.0</td>\n",
       "    </tr>\n",
       "  </tbody>\n",
       "</table>\n",
       "</div>"
      ],
      "text/plain": [
       "   object_id        creation_time               name  \\\n",
       "0          1  2014-04-22 03:53:30     Clausen August   \n",
       "1          2  2013-11-15 03:45:04      Poole Matthew   \n",
       "2          3  2013-03-19 23:14:52  Bottrill Mitchell   \n",
       "3          4  2013-05-21 08:09:28    Clausen Nicklas   \n",
       "4          5  2013-01-17 10:14:20          Raw Grace   \n",
       "\n",
       "                        email creation_source  last_session_creation_time  \\\n",
       "0    AugustCClausen@yahoo.com    GUEST_INVITE                1.398139e+09   \n",
       "1      MatthewPoole@gustr.com      ORG_INVITE                1.396238e+09   \n",
       "2  MitchellBottrill@gustr.com      ORG_INVITE                1.363735e+09   \n",
       "3   NicklasSClausen@yahoo.com    GUEST_INVITE                1.369210e+09   \n",
       "4          GraceRaw@yahoo.com    GUEST_INVITE                1.358850e+09   \n",
       "\n",
       "   opted_in_to_mailing_list  enabled_for_marketing_drip  org_id  \\\n",
       "0                         1                           0      11   \n",
       "1                         0                           0       1   \n",
       "2                         0                           0      94   \n",
       "3                         0                           0       1   \n",
       "4                         0                           0     193   \n",
       "\n",
       "   invited_by_user_id  \n",
       "0             10803.0  \n",
       "1               316.0  \n",
       "2              1525.0  \n",
       "3              5151.0  \n",
       "4              5240.0  "
      ]
     },
     "execution_count": 4,
     "metadata": {},
     "output_type": "execute_result"
    }
   ],
   "source": [
    "#view the users dataset\n",
    "users.head()"
   ]
  },
  {
   "cell_type": "code",
   "execution_count": 5,
   "id": "1cb1005b",
   "metadata": {},
   "outputs": [
    {
     "data": {
      "text/plain": [
       "RangeIndex(start=0, stop=12000, step=1)"
      ]
     },
     "execution_count": 5,
     "metadata": {},
     "output_type": "execute_result"
    }
   ],
   "source": [
    "users.index"
   ]
  },
  {
   "cell_type": "code",
   "execution_count": 6,
   "id": "9deee4b5",
   "metadata": {},
   "outputs": [
    {
     "name": "stdout",
     "output_type": "stream",
     "text": [
      "<class 'pandas.core.frame.DataFrame'>\n",
      "RangeIndex: 12000 entries, 0 to 11999\n",
      "Data columns (total 10 columns):\n",
      " #   Column                      Non-Null Count  Dtype  \n",
      "---  ------                      --------------  -----  \n",
      " 0   object_id                   12000 non-null  int64  \n",
      " 1   creation_time               12000 non-null  object \n",
      " 2   name                        12000 non-null  object \n",
      " 3   email                       12000 non-null  object \n",
      " 4   creation_source             12000 non-null  object \n",
      " 5   last_session_creation_time  8823 non-null   float64\n",
      " 6   opted_in_to_mailing_list    12000 non-null  int64  \n",
      " 7   enabled_for_marketing_drip  12000 non-null  int64  \n",
      " 8   org_id                      12000 non-null  int64  \n",
      " 9   invited_by_user_id          6417 non-null   float64\n",
      "dtypes: float64(2), int64(4), object(4)\n",
      "memory usage: 937.6+ KB\n"
     ]
    }
   ],
   "source": [
    "#Get a summary of the users dataset and see if there is any NA values\n",
    "users.info()"
   ]
  },
  {
   "cell_type": "code",
   "execution_count": 7,
   "id": "ee8989d7",
   "metadata": {},
   "outputs": [
    {
     "data": {
      "text/html": [
       "<div>\n",
       "<style scoped>\n",
       "    .dataframe tbody tr th:only-of-type {\n",
       "        vertical-align: middle;\n",
       "    }\n",
       "\n",
       "    .dataframe tbody tr th {\n",
       "        vertical-align: top;\n",
       "    }\n",
       "\n",
       "    .dataframe thead th {\n",
       "        text-align: right;\n",
       "    }\n",
       "</style>\n",
       "<table border=\"1\" class=\"dataframe\">\n",
       "  <thead>\n",
       "    <tr style=\"text-align: right;\">\n",
       "      <th></th>\n",
       "      <th>time_stamp</th>\n",
       "      <th>user_id</th>\n",
       "      <th>visited</th>\n",
       "    </tr>\n",
       "  </thead>\n",
       "  <tbody>\n",
       "    <tr>\n",
       "      <th>0</th>\n",
       "      <td>2014-04-22 03:53:30</td>\n",
       "      <td>1</td>\n",
       "      <td>1</td>\n",
       "    </tr>\n",
       "    <tr>\n",
       "      <th>1</th>\n",
       "      <td>2013-11-15 03:45:04</td>\n",
       "      <td>2</td>\n",
       "      <td>1</td>\n",
       "    </tr>\n",
       "    <tr>\n",
       "      <th>2</th>\n",
       "      <td>2013-11-29 03:45:04</td>\n",
       "      <td>2</td>\n",
       "      <td>1</td>\n",
       "    </tr>\n",
       "    <tr>\n",
       "      <th>3</th>\n",
       "      <td>2013-12-09 03:45:04</td>\n",
       "      <td>2</td>\n",
       "      <td>1</td>\n",
       "    </tr>\n",
       "    <tr>\n",
       "      <th>4</th>\n",
       "      <td>2013-12-25 03:45:04</td>\n",
       "      <td>2</td>\n",
       "      <td>1</td>\n",
       "    </tr>\n",
       "  </tbody>\n",
       "</table>\n",
       "</div>"
      ],
      "text/plain": [
       "            time_stamp  user_id  visited\n",
       "0  2014-04-22 03:53:30        1        1\n",
       "1  2013-11-15 03:45:04        2        1\n",
       "2  2013-11-29 03:45:04        2        1\n",
       "3  2013-12-09 03:45:04        2        1\n",
       "4  2013-12-25 03:45:04        2        1"
      ]
     },
     "execution_count": 7,
     "metadata": {},
     "output_type": "execute_result"
    }
   ],
   "source": [
    "#view the engegement dataset\n",
    "engagement.head()"
   ]
  },
  {
   "cell_type": "code",
   "execution_count": 8,
   "id": "08809a61",
   "metadata": {},
   "outputs": [
    {
     "name": "stdout",
     "output_type": "stream",
     "text": [
      "<class 'pandas.core.frame.DataFrame'>\n",
      "RangeIndex: 207917 entries, 0 to 207916\n",
      "Data columns (total 3 columns):\n",
      " #   Column      Non-Null Count   Dtype \n",
      "---  ------      --------------   ----- \n",
      " 0   time_stamp  207917 non-null  object\n",
      " 1   user_id     207917 non-null  int64 \n",
      " 2   visited     207917 non-null  int64 \n",
      "dtypes: int64(2), object(1)\n",
      "memory usage: 4.8+ MB\n"
     ]
    }
   ],
   "source": [
    "#Get a summary of the engagement dataset and check data types\n",
    "engagement.info()"
   ]
  },
  {
   "cell_type": "code",
   "execution_count": 9,
   "id": "9b07834c",
   "metadata": {},
   "outputs": [
    {
     "data": {
      "text/html": [
       "<div>\n",
       "<style scoped>\n",
       "    .dataframe tbody tr th:only-of-type {\n",
       "        vertical-align: middle;\n",
       "    }\n",
       "\n",
       "    .dataframe tbody tr th {\n",
       "        vertical-align: top;\n",
       "    }\n",
       "\n",
       "    .dataframe thead th {\n",
       "        text-align: right;\n",
       "    }\n",
       "</style>\n",
       "<table border=\"1\" class=\"dataframe\">\n",
       "  <thead>\n",
       "    <tr style=\"text-align: right;\">\n",
       "      <th></th>\n",
       "      <th>user_id</th>\n",
       "      <th>visited</th>\n",
       "    </tr>\n",
       "  </thead>\n",
       "  <tbody>\n",
       "    <tr>\n",
       "      <th>count</th>\n",
       "      <td>207917.000000</td>\n",
       "      <td>207917.0</td>\n",
       "    </tr>\n",
       "    <tr>\n",
       "      <th>mean</th>\n",
       "      <td>5913.314197</td>\n",
       "      <td>1.0</td>\n",
       "    </tr>\n",
       "    <tr>\n",
       "      <th>std</th>\n",
       "      <td>3394.941674</td>\n",
       "      <td>0.0</td>\n",
       "    </tr>\n",
       "    <tr>\n",
       "      <th>min</th>\n",
       "      <td>1.000000</td>\n",
       "      <td>1.0</td>\n",
       "    </tr>\n",
       "    <tr>\n",
       "      <th>25%</th>\n",
       "      <td>3087.000000</td>\n",
       "      <td>1.0</td>\n",
       "    </tr>\n",
       "    <tr>\n",
       "      <th>50%</th>\n",
       "      <td>5682.000000</td>\n",
       "      <td>1.0</td>\n",
       "    </tr>\n",
       "    <tr>\n",
       "      <th>75%</th>\n",
       "      <td>8944.000000</td>\n",
       "      <td>1.0</td>\n",
       "    </tr>\n",
       "    <tr>\n",
       "      <th>max</th>\n",
       "      <td>12000.000000</td>\n",
       "      <td>1.0</td>\n",
       "    </tr>\n",
       "  </tbody>\n",
       "</table>\n",
       "</div>"
      ],
      "text/plain": [
       "             user_id   visited\n",
       "count  207917.000000  207917.0\n",
       "mean     5913.314197       1.0\n",
       "std      3394.941674       0.0\n",
       "min         1.000000       1.0\n",
       "25%      3087.000000       1.0\n",
       "50%      5682.000000       1.0\n",
       "75%      8944.000000       1.0\n",
       "max     12000.000000       1.0"
      ]
     },
     "execution_count": 9,
     "metadata": {},
     "output_type": "execute_result"
    }
   ],
   "source": [
    "# get statistic summary\n",
    "engagement.describe()"
   ]
  },
  {
   "cell_type": "code",
   "execution_count": 10,
   "id": "2e1d868b",
   "metadata": {},
   "outputs": [
    {
     "name": "stdout",
     "output_type": "stream",
     "text": [
      "takehome_users dataset : missing object_id                     False\n",
      "creation_time                 False\n",
      "name                          False\n",
      "email                         False\n",
      "creation_source               False\n",
      "last_session_creation_time     True\n",
      "opted_in_to_mailing_list      False\n",
      "enabled_for_marketing_drip    False\n",
      "org_id                        False\n",
      "invited_by_user_id             True\n",
      "dtype: bool\n",
      "takehome_users_engagement dataset : missing time_stamp    False\n",
      "user_id       False\n",
      "visited       False\n",
      "dtype: bool\n"
     ]
    }
   ],
   "source": [
    "# Check for missing values in each dataset\n",
    "print('takehome_users dataset : missing {}'.format(users.isnull().any()))\n",
    "print('takehome_users_engagement dataset : missing {}'.format(engagement.isnull().any()))"
   ]
  },
  {
   "cell_type": "code",
   "execution_count": 11,
   "id": "77521e79",
   "metadata": {},
   "outputs": [],
   "source": [
    "# 'last_session_creation_time' and 'i'nvited_by_user_id' have missing values "
   ]
  },
  {
   "cell_type": "code",
   "execution_count": 12,
   "id": "917d170d",
   "metadata": {},
   "outputs": [],
   "source": [
    "#convert to datetime data type\n",
    "users.creation_time = pd.to_datetime(users.creation_time)"
   ]
  },
  {
   "cell_type": "code",
   "execution_count": 13,
   "id": "dfa26e60",
   "metadata": {},
   "outputs": [],
   "source": [
    "# rename object_id to user_id for consistency\n",
    "users.rename(columns={'object_id':'user_id'}, inplace=True)"
   ]
  },
  {
   "cell_type": "code",
   "execution_count": 14,
   "id": "5f800407",
   "metadata": {},
   "outputs": [],
   "source": [
    "#convert timestamp to datetime\n",
    "engagement.time_stamp = pd.to_datetime(engagement.time_stamp)"
   ]
  },
  {
   "cell_type": "code",
   "execution_count": 15,
   "id": "a147b92e",
   "metadata": {},
   "outputs": [
    {
     "data": {
      "text/html": [
       "<div>\n",
       "<style scoped>\n",
       "    .dataframe tbody tr th:only-of-type {\n",
       "        vertical-align: middle;\n",
       "    }\n",
       "\n",
       "    .dataframe tbody tr th {\n",
       "        vertical-align: top;\n",
       "    }\n",
       "\n",
       "    .dataframe thead th {\n",
       "        text-align: right;\n",
       "    }\n",
       "</style>\n",
       "<table border=\"1\" class=\"dataframe\">\n",
       "  <thead>\n",
       "    <tr style=\"text-align: right;\">\n",
       "      <th></th>\n",
       "      <th>time_stamp</th>\n",
       "      <th>user_id</th>\n",
       "      <th>visited</th>\n",
       "    </tr>\n",
       "  </thead>\n",
       "  <tbody>\n",
       "    <tr>\n",
       "      <th>0</th>\n",
       "      <td>2014-04-22 03:53:30</td>\n",
       "      <td>1</td>\n",
       "      <td>1</td>\n",
       "    </tr>\n",
       "    <tr>\n",
       "      <th>1</th>\n",
       "      <td>2013-11-15 03:45:04</td>\n",
       "      <td>2</td>\n",
       "      <td>1</td>\n",
       "    </tr>\n",
       "    <tr>\n",
       "      <th>2</th>\n",
       "      <td>2013-11-29 03:45:04</td>\n",
       "      <td>2</td>\n",
       "      <td>1</td>\n",
       "    </tr>\n",
       "    <tr>\n",
       "      <th>3</th>\n",
       "      <td>2013-12-09 03:45:04</td>\n",
       "      <td>2</td>\n",
       "      <td>1</td>\n",
       "    </tr>\n",
       "    <tr>\n",
       "      <th>4</th>\n",
       "      <td>2013-12-25 03:45:04</td>\n",
       "      <td>2</td>\n",
       "      <td>1</td>\n",
       "    </tr>\n",
       "  </tbody>\n",
       "</table>\n",
       "</div>"
      ],
      "text/plain": [
       "           time_stamp  user_id  visited\n",
       "0 2014-04-22 03:53:30        1        1\n",
       "1 2013-11-15 03:45:04        2        1\n",
       "2 2013-11-29 03:45:04        2        1\n",
       "3 2013-12-09 03:45:04        2        1\n",
       "4 2013-12-25 03:45:04        2        1"
      ]
     },
     "execution_count": 15,
     "metadata": {},
     "output_type": "execute_result"
    }
   ],
   "source": [
    "# set time_stamp as index\n",
    "#engagement = engagement.set_index('time_stamp')\n",
    "engagement.head()"
   ]
  },
  {
   "cell_type": "code",
   "execution_count": 16,
   "id": "0f9cdf62",
   "metadata": {},
   "outputs": [],
   "source": [
    "groups = engagement.groupby('user_id')"
   ]
  },
  {
   "cell_type": "code",
   "execution_count": 17,
   "id": "d3e9cd36",
   "metadata": {},
   "outputs": [],
   "source": [
    "# [x for x in groups]"
   ]
  },
  {
   "cell_type": "markdown",
   "id": "df3b4288",
   "metadata": {},
   "source": [
    "### Identify ' adopted user'"
   ]
  },
  {
   "cell_type": "code",
   "execution_count": 18,
   "id": "029beed5",
   "metadata": {},
   "outputs": [],
   "source": [
    "#Generate a dictionary that classifies adopted user versus non-adopted users\n",
    "adopted_dict = {}\n",
    "\n",
    "for group in engagement.groupby('user_id'):\n",
    "    user_id = group[0]\n",
    "    login_counts = len(group[1])\n",
    "    user_logins = group[1]['time_stamp'].sort_values().reset_index(drop=True)\n",
    "    \n",
    "    #Check if number of logins is greater than 3, if so continue checking the status\n",
    "    if login_counts >= 3:\n",
    "        num = 0\n",
    "        for i, time in enumerate(user_logins):\n",
    "            if i < len(user_logins)-2:\n",
    "                start = time\n",
    "                end = start + pd.Timedelta('7D')\n",
    "                next1 = user_logins[i+1]\n",
    "                next2 = user_logins[i+2]\n",
    "                if (next1 < end) & (next2<end):\n",
    "                    num += 1\n",
    "        if num == 0:\n",
    "            adopted_dict[user_id] = 0\n",
    "        else:\n",
    "            adopted_dict[user_id] = 1\n",
    "    else:\n",
    "        adopted_dict[user_id] = 0"
   ]
  },
  {
   "cell_type": "code",
   "execution_count": 19,
   "id": "b0742b5c",
   "metadata": {},
   "outputs": [
    {
     "name": "stdout",
     "output_type": "stream",
     "text": [
      "There is 1602 adopted users in this dataset.\n"
     ]
    }
   ],
   "source": [
    "#Count the total number of adopted users\n",
    "count = 0\n",
    "for key, value in adopted_dict.items():\n",
    "    if value == True:\n",
    "        count +=1\n",
    "print ('There is {} adopted users in this dataset.'.format(count))"
   ]
  },
  {
   "cell_type": "code",
   "execution_count": 20,
   "id": "71739520",
   "metadata": {},
   "outputs": [],
   "source": [
    "# adopted_dict"
   ]
  },
  {
   "cell_type": "code",
   "execution_count": 21,
   "id": "876ad2a0",
   "metadata": {},
   "outputs": [],
   "source": [
    "# Merge adopted user status for each user id into the users dataset\n",
    "users['adopted_user'] = users['user_id'].map(adopted_dict)"
   ]
  },
  {
   "cell_type": "code",
   "execution_count": 22,
   "id": "4ce1f8f7",
   "metadata": {},
   "outputs": [
    {
     "data": {
      "text/html": [
       "<div>\n",
       "<style scoped>\n",
       "    .dataframe tbody tr th:only-of-type {\n",
       "        vertical-align: middle;\n",
       "    }\n",
       "\n",
       "    .dataframe tbody tr th {\n",
       "        vertical-align: top;\n",
       "    }\n",
       "\n",
       "    .dataframe thead th {\n",
       "        text-align: right;\n",
       "    }\n",
       "</style>\n",
       "<table border=\"1\" class=\"dataframe\">\n",
       "  <thead>\n",
       "    <tr style=\"text-align: right;\">\n",
       "      <th></th>\n",
       "      <th>user_id</th>\n",
       "      <th>creation_time</th>\n",
       "      <th>name</th>\n",
       "      <th>email</th>\n",
       "      <th>creation_source</th>\n",
       "      <th>last_session_creation_time</th>\n",
       "      <th>opted_in_to_mailing_list</th>\n",
       "      <th>enabled_for_marketing_drip</th>\n",
       "      <th>org_id</th>\n",
       "      <th>invited_by_user_id</th>\n",
       "      <th>adopted_user</th>\n",
       "    </tr>\n",
       "  </thead>\n",
       "  <tbody>\n",
       "    <tr>\n",
       "      <th>0</th>\n",
       "      <td>1</td>\n",
       "      <td>2014-04-22 03:53:30</td>\n",
       "      <td>Clausen August</td>\n",
       "      <td>AugustCClausen@yahoo.com</td>\n",
       "      <td>GUEST_INVITE</td>\n",
       "      <td>1.398139e+09</td>\n",
       "      <td>1</td>\n",
       "      <td>0</td>\n",
       "      <td>11</td>\n",
       "      <td>10803.0</td>\n",
       "      <td>0.0</td>\n",
       "    </tr>\n",
       "    <tr>\n",
       "      <th>1</th>\n",
       "      <td>2</td>\n",
       "      <td>2013-11-15 03:45:04</td>\n",
       "      <td>Poole Matthew</td>\n",
       "      <td>MatthewPoole@gustr.com</td>\n",
       "      <td>ORG_INVITE</td>\n",
       "      <td>1.396238e+09</td>\n",
       "      <td>0</td>\n",
       "      <td>0</td>\n",
       "      <td>1</td>\n",
       "      <td>316.0</td>\n",
       "      <td>1.0</td>\n",
       "    </tr>\n",
       "    <tr>\n",
       "      <th>2</th>\n",
       "      <td>3</td>\n",
       "      <td>2013-03-19 23:14:52</td>\n",
       "      <td>Bottrill Mitchell</td>\n",
       "      <td>MitchellBottrill@gustr.com</td>\n",
       "      <td>ORG_INVITE</td>\n",
       "      <td>1.363735e+09</td>\n",
       "      <td>0</td>\n",
       "      <td>0</td>\n",
       "      <td>94</td>\n",
       "      <td>1525.0</td>\n",
       "      <td>0.0</td>\n",
       "    </tr>\n",
       "    <tr>\n",
       "      <th>3</th>\n",
       "      <td>4</td>\n",
       "      <td>2013-05-21 08:09:28</td>\n",
       "      <td>Clausen Nicklas</td>\n",
       "      <td>NicklasSClausen@yahoo.com</td>\n",
       "      <td>GUEST_INVITE</td>\n",
       "      <td>1.369210e+09</td>\n",
       "      <td>0</td>\n",
       "      <td>0</td>\n",
       "      <td>1</td>\n",
       "      <td>5151.0</td>\n",
       "      <td>0.0</td>\n",
       "    </tr>\n",
       "    <tr>\n",
       "      <th>4</th>\n",
       "      <td>5</td>\n",
       "      <td>2013-01-17 10:14:20</td>\n",
       "      <td>Raw Grace</td>\n",
       "      <td>GraceRaw@yahoo.com</td>\n",
       "      <td>GUEST_INVITE</td>\n",
       "      <td>1.358850e+09</td>\n",
       "      <td>0</td>\n",
       "      <td>0</td>\n",
       "      <td>193</td>\n",
       "      <td>5240.0</td>\n",
       "      <td>0.0</td>\n",
       "    </tr>\n",
       "  </tbody>\n",
       "</table>\n",
       "</div>"
      ],
      "text/plain": [
       "   user_id       creation_time               name                       email  \\\n",
       "0        1 2014-04-22 03:53:30     Clausen August    AugustCClausen@yahoo.com   \n",
       "1        2 2013-11-15 03:45:04      Poole Matthew      MatthewPoole@gustr.com   \n",
       "2        3 2013-03-19 23:14:52  Bottrill Mitchell  MitchellBottrill@gustr.com   \n",
       "3        4 2013-05-21 08:09:28    Clausen Nicklas   NicklasSClausen@yahoo.com   \n",
       "4        5 2013-01-17 10:14:20          Raw Grace          GraceRaw@yahoo.com   \n",
       "\n",
       "  creation_source  last_session_creation_time  opted_in_to_mailing_list  \\\n",
       "0    GUEST_INVITE                1.398139e+09                         1   \n",
       "1      ORG_INVITE                1.396238e+09                         0   \n",
       "2      ORG_INVITE                1.363735e+09                         0   \n",
       "3    GUEST_INVITE                1.369210e+09                         0   \n",
       "4    GUEST_INVITE                1.358850e+09                         0   \n",
       "\n",
       "   enabled_for_marketing_drip  org_id  invited_by_user_id  adopted_user  \n",
       "0                           0      11             10803.0           0.0  \n",
       "1                           0       1               316.0           1.0  \n",
       "2                           0      94              1525.0           0.0  \n",
       "3                           0       1              5151.0           0.0  \n",
       "4                           0     193              5240.0           0.0  "
      ]
     },
     "execution_count": 22,
     "metadata": {},
     "output_type": "execute_result"
    }
   ],
   "source": [
    "users.head()"
   ]
  },
  {
   "cell_type": "markdown",
   "id": "9f653c1a",
   "metadata": {},
   "source": [
    "### Cleaning Data"
   ]
  },
  {
   "cell_type": "code",
   "execution_count": 23,
   "id": "1564e038",
   "metadata": {},
   "outputs": [],
   "source": [
    "#extracting email domain from the email list\n",
    "users['email_domain'] = users['email'].apply(lambda x: x.split('@')[1].split('.')[0])"
   ]
  },
  {
   "cell_type": "code",
   "execution_count": 24,
   "id": "e7018ade",
   "metadata": {},
   "outputs": [
    {
     "name": "stdout",
     "output_type": "stream",
     "text": [
      "There are 1184 email domains in this dataset.\n"
     ]
    }
   ],
   "source": [
    "print ('There are {} email domains in this dataset.'.format(users['email_domain'].nunique()))"
   ]
  },
  {
   "cell_type": "code",
   "execution_count": 25,
   "id": "b239ece5",
   "metadata": {},
   "outputs": [],
   "source": [
    "#Converting to creation time and last login time to datetime type\n",
    "users['last_session_creation_time'] = pd.to_datetime(users['last_session_creation_time'], unit='s')\n",
    "users['creation_time'] = pd.to_datetime(users['creation_time'])\n",
    "\n",
    "#calculate days since signup\n",
    "users['days_since_signup'] = (users['last_session_creation_time'] - users['creation_time']).apply(lambda x: x.days)"
   ]
  },
  {
   "cell_type": "code",
   "execution_count": 26,
   "id": "cbabd3a7",
   "metadata": {},
   "outputs": [
    {
     "data": {
      "text/html": [
       "<div>\n",
       "<style scoped>\n",
       "    .dataframe tbody tr th:only-of-type {\n",
       "        vertical-align: middle;\n",
       "    }\n",
       "\n",
       "    .dataframe tbody tr th {\n",
       "        vertical-align: top;\n",
       "    }\n",
       "\n",
       "    .dataframe thead th {\n",
       "        text-align: right;\n",
       "    }\n",
       "</style>\n",
       "<table border=\"1\" class=\"dataframe\">\n",
       "  <thead>\n",
       "    <tr style=\"text-align: right;\">\n",
       "      <th></th>\n",
       "      <th>creation_source</th>\n",
       "      <th>opted_in_to_mailing_list</th>\n",
       "      <th>enabled_for_marketing_drip</th>\n",
       "      <th>org_id</th>\n",
       "      <th>invited_by_user_id</th>\n",
       "      <th>adopted_user</th>\n",
       "      <th>email_domain</th>\n",
       "      <th>days_since_signup</th>\n",
       "    </tr>\n",
       "  </thead>\n",
       "  <tbody>\n",
       "    <tr>\n",
       "      <th>0</th>\n",
       "      <td>GUEST_INVITE</td>\n",
       "      <td>1</td>\n",
       "      <td>0</td>\n",
       "      <td>11</td>\n",
       "      <td>10803.0</td>\n",
       "      <td>0.0</td>\n",
       "      <td>yahoo</td>\n",
       "      <td>0.0</td>\n",
       "    </tr>\n",
       "    <tr>\n",
       "      <th>1</th>\n",
       "      <td>ORG_INVITE</td>\n",
       "      <td>0</td>\n",
       "      <td>0</td>\n",
       "      <td>1</td>\n",
       "      <td>316.0</td>\n",
       "      <td>1.0</td>\n",
       "      <td>gustr</td>\n",
       "      <td>136.0</td>\n",
       "    </tr>\n",
       "    <tr>\n",
       "      <th>2</th>\n",
       "      <td>ORG_INVITE</td>\n",
       "      <td>0</td>\n",
       "      <td>0</td>\n",
       "      <td>94</td>\n",
       "      <td>1525.0</td>\n",
       "      <td>0.0</td>\n",
       "      <td>gustr</td>\n",
       "      <td>0.0</td>\n",
       "    </tr>\n",
       "    <tr>\n",
       "      <th>3</th>\n",
       "      <td>GUEST_INVITE</td>\n",
       "      <td>0</td>\n",
       "      <td>0</td>\n",
       "      <td>1</td>\n",
       "      <td>5151.0</td>\n",
       "      <td>0.0</td>\n",
       "      <td>yahoo</td>\n",
       "      <td>1.0</td>\n",
       "    </tr>\n",
       "    <tr>\n",
       "      <th>4</th>\n",
       "      <td>GUEST_INVITE</td>\n",
       "      <td>0</td>\n",
       "      <td>0</td>\n",
       "      <td>193</td>\n",
       "      <td>5240.0</td>\n",
       "      <td>0.0</td>\n",
       "      <td>yahoo</td>\n",
       "      <td>5.0</td>\n",
       "    </tr>\n",
       "  </tbody>\n",
       "</table>\n",
       "</div>"
      ],
      "text/plain": [
       "  creation_source  opted_in_to_mailing_list  enabled_for_marketing_drip  \\\n",
       "0    GUEST_INVITE                         1                           0   \n",
       "1      ORG_INVITE                         0                           0   \n",
       "2      ORG_INVITE                         0                           0   \n",
       "3    GUEST_INVITE                         0                           0   \n",
       "4    GUEST_INVITE                         0                           0   \n",
       "\n",
       "   org_id  invited_by_user_id  adopted_user email_domain  days_since_signup  \n",
       "0      11             10803.0           0.0        yahoo                0.0  \n",
       "1       1               316.0           1.0        gustr              136.0  \n",
       "2      94              1525.0           0.0        gustr                0.0  \n",
       "3       1              5151.0           0.0        yahoo                1.0  \n",
       "4     193              5240.0           0.0        yahoo                5.0  "
      ]
     },
     "execution_count": 26,
     "metadata": {},
     "output_type": "execute_result"
    }
   ],
   "source": [
    "#Extract all columns into a new dataframe except: object_id, creation_time, name, email, last_session_creation_time\n",
    "users_new = users[['creation_source', 'opted_in_to_mailing_list', 'enabled_for_marketing_drip', \n",
    "                  'org_id', 'invited_by_user_id', 'adopted_user', 'email_domain', 'days_since_signup']]\n",
    "users_new.head()"
   ]
  },
  {
   "cell_type": "code",
   "execution_count": 27,
   "id": "52e90602",
   "metadata": {},
   "outputs": [
    {
     "name": "stdout",
     "output_type": "stream",
     "text": [
      "<class 'pandas.core.frame.DataFrame'>\n",
      "RangeIndex: 12000 entries, 0 to 11999\n",
      "Data columns (total 8 columns):\n",
      " #   Column                      Non-Null Count  Dtype  \n",
      "---  ------                      --------------  -----  \n",
      " 0   creation_source             12000 non-null  object \n",
      " 1   opted_in_to_mailing_list    12000 non-null  int64  \n",
      " 2   enabled_for_marketing_drip  12000 non-null  int64  \n",
      " 3   org_id                      12000 non-null  int64  \n",
      " 4   invited_by_user_id          6417 non-null   float64\n",
      " 5   adopted_user                8823 non-null   float64\n",
      " 6   email_domain                12000 non-null  object \n",
      " 7   days_since_signup           8823 non-null   float64\n",
      "dtypes: float64(3), int64(3), object(2)\n",
      "memory usage: 750.1+ KB\n"
     ]
    }
   ],
   "source": [
    "users_new.info()"
   ]
  },
  {
   "cell_type": "markdown",
   "id": "c430b88f",
   "metadata": {},
   "source": [
    "### Data Visualization"
   ]
  },
  {
   "cell_type": "code",
   "execution_count": 28,
   "id": "7048fc97",
   "metadata": {},
   "outputs": [
    {
     "data": {
      "image/png": "[encoded data removed]",
      "text/plain": [
       "<Figure size 648x432 with 1 Axes>"
      ]
     },
     "metadata": {
      "needs_background": "light"
     },
     "output_type": "display_data"
    }
   ],
   "source": [
    "# 'creation_source'\n",
    "# sns.set(style=\"darkgrid\")\n",
    "plt.figure(figsize=(9,6))\n",
    "sns.countplot(y='creation_source', data=users_new, hue='adopted_user')\n",
    "plt.title('Adopted User Status by Creation Source', fontsize=14);"
   ]
  },
  {
   "cell_type": "code",
   "execution_count": 29,
   "id": "45591586",
   "metadata": {},
   "outputs": [
    {
     "data": {
      "image/png": "[encoded data removed]",
      "text/plain": [
       "<Figure size 648x432 with 1 Axes>"
      ]
     },
     "metadata": {
      "needs_background": "light"
     },
     "output_type": "display_data"
    }
   ],
   "source": [
    "# visualize 'opted_in_to_mailing_list'\n",
    "plt.figure(figsize=(9,6))\n",
    "sns.countplot(x='opted_in_to_mailing_list', hue='adopted_user', data=users_new)\n",
    "plt.title('Adopted User Status by Mailing List Opt-In', fontsize=14);"
   ]
  },
  {
   "cell_type": "code",
   "execution_count": 30,
   "id": "5e78562b",
   "metadata": {},
   "outputs": [
    {
     "data": {
      "image/png": "[encoded data removed]",
      "text/plain": [
       "<Figure size 648x432 with 1 Axes>"
      ]
     },
     "metadata": {
      "needs_background": "light"
     },
     "output_type": "display_data"
    }
   ],
   "source": [
    "# 'enabled_for_marketing_drip'\n",
    "plt.figure(figsize=(9,6))\n",
    "sns.countplot(x='enabled_for_marketing_drip', hue='adopted_user',data=users_new)\n",
    "plt.title('Adopted User Status by Marketing Email Drip', fontsize=14);"
   ]
  },
  {
   "cell_type": "code",
   "execution_count": 31,
   "id": "3aa1ba58",
   "metadata": {},
   "outputs": [
    {
     "data": {
      "image/png": "[encoded data removed]",
      "text/plain": [
       "<Figure size 648x432 with 1 Axes>"
      ]
     },
     "metadata": {
      "needs_background": "light"
     },
     "output_type": "display_data"
    }
   ],
   "source": [
    "# 'days_since_signup'\n",
    "plt.figure(figsize=(9,6))\n",
    "sns.boxplot(y='days_since_signup', x='adopted_user', data=users_new)\n",
    "plt.title('Days Since Signup for Adopted Users', fontsize=14);"
   ]
  },
  {
   "cell_type": "code",
   "execution_count": 32,
   "id": "343f8fe0",
   "metadata": {},
   "outputs": [
    {
     "data": {
      "text/plain": [
       "gmail         3562\n",
       "yahoo         2447\n",
       "jourrapide    1259\n",
       "cuvox         1202\n",
       "gustr         1179\n",
       "hotmail       1165\n",
       "rerwl            2\n",
       "oqpze            2\n",
       "qgjbc            2\n",
       "dqwln            2\n",
       "Name: email_domain, dtype: int64"
      ]
     },
     "execution_count": 32,
     "metadata": {},
     "output_type": "execute_result"
    }
   ],
   "source": [
    "#Since there are several email domains, will only loook at the top 10 and selectively choose the important ones\n",
    "users_new.email_domain.value_counts().head(10)"
   ]
  },
  {
   "cell_type": "code",
   "execution_count": 33,
   "id": "0c69cb01",
   "metadata": {},
   "outputs": [],
   "source": [
    "#Create main email domains based on counts\n",
    "main_domain = ['gmail', 'yahoo', 'jourrapide', 'cuvox', 'gustr', 'hotmail']"
   ]
  },
  {
   "cell_type": "code",
   "execution_count": 34,
   "id": "8643d888",
   "metadata": {},
   "outputs": [],
   "source": [
    "#Generate \"others\" category for the email domain\n",
    "users_new['email_domain'][~users_new['email_domain'].isin(main_domain)] = 'others'"
   ]
  },
  {
   "cell_type": "code",
   "execution_count": 35,
   "id": "f5c84f5b",
   "metadata": {},
   "outputs": [
    {
     "data": {
      "text/html": [
       "<div>\n",
       "<style scoped>\n",
       "    .dataframe tbody tr th:only-of-type {\n",
       "        vertical-align: middle;\n",
       "    }\n",
       "\n",
       "    .dataframe tbody tr th {\n",
       "        vertical-align: top;\n",
       "    }\n",
       "\n",
       "    .dataframe thead th {\n",
       "        text-align: right;\n",
       "    }\n",
       "</style>\n",
       "<table border=\"1\" class=\"dataframe\">\n",
       "  <thead>\n",
       "    <tr style=\"text-align: right;\">\n",
       "      <th></th>\n",
       "      <th>creation_source</th>\n",
       "      <th>opted_in_to_mailing_list</th>\n",
       "      <th>enabled_for_marketing_drip</th>\n",
       "      <th>org_id</th>\n",
       "      <th>invited_by_user_id</th>\n",
       "      <th>adopted_user</th>\n",
       "      <th>email_domain</th>\n",
       "      <th>days_since_signup</th>\n",
       "    </tr>\n",
       "  </thead>\n",
       "  <tbody>\n",
       "    <tr>\n",
       "      <th>0</th>\n",
       "      <td>GUEST_INVITE</td>\n",
       "      <td>1</td>\n",
       "      <td>0</td>\n",
       "      <td>11</td>\n",
       "      <td>10803.0</td>\n",
       "      <td>0.0</td>\n",
       "      <td>yahoo</td>\n",
       "      <td>0.0</td>\n",
       "    </tr>\n",
       "    <tr>\n",
       "      <th>1</th>\n",
       "      <td>ORG_INVITE</td>\n",
       "      <td>0</td>\n",
       "      <td>0</td>\n",
       "      <td>1</td>\n",
       "      <td>316.0</td>\n",
       "      <td>1.0</td>\n",
       "      <td>gustr</td>\n",
       "      <td>136.0</td>\n",
       "    </tr>\n",
       "    <tr>\n",
       "      <th>2</th>\n",
       "      <td>ORG_INVITE</td>\n",
       "      <td>0</td>\n",
       "      <td>0</td>\n",
       "      <td>94</td>\n",
       "      <td>1525.0</td>\n",
       "      <td>0.0</td>\n",
       "      <td>gustr</td>\n",
       "      <td>0.0</td>\n",
       "    </tr>\n",
       "    <tr>\n",
       "      <th>3</th>\n",
       "      <td>GUEST_INVITE</td>\n",
       "      <td>0</td>\n",
       "      <td>0</td>\n",
       "      <td>1</td>\n",
       "      <td>5151.0</td>\n",
       "      <td>0.0</td>\n",
       "      <td>yahoo</td>\n",
       "      <td>1.0</td>\n",
       "    </tr>\n",
       "    <tr>\n",
       "      <th>4</th>\n",
       "      <td>GUEST_INVITE</td>\n",
       "      <td>0</td>\n",
       "      <td>0</td>\n",
       "      <td>193</td>\n",
       "      <td>5240.0</td>\n",
       "      <td>0.0</td>\n",
       "      <td>yahoo</td>\n",
       "      <td>5.0</td>\n",
       "    </tr>\n",
       "  </tbody>\n",
       "</table>\n",
       "</div>"
      ],
      "text/plain": [
       "  creation_source  opted_in_to_mailing_list  enabled_for_marketing_drip  \\\n",
       "0    GUEST_INVITE                         1                           0   \n",
       "1      ORG_INVITE                         0                           0   \n",
       "2      ORG_INVITE                         0                           0   \n",
       "3    GUEST_INVITE                         0                           0   \n",
       "4    GUEST_INVITE                         0                           0   \n",
       "\n",
       "   org_id  invited_by_user_id  adopted_user email_domain  days_since_signup  \n",
       "0      11             10803.0           0.0        yahoo                0.0  \n",
       "1       1               316.0           1.0        gustr              136.0  \n",
       "2      94              1525.0           0.0        gustr                0.0  \n",
       "3       1              5151.0           0.0        yahoo                1.0  \n",
       "4     193              5240.0           0.0        yahoo                5.0  "
      ]
     },
     "execution_count": 35,
     "metadata": {},
     "output_type": "execute_result"
    }
   ],
   "source": [
    "users_new.head()"
   ]
  },
  {
   "cell_type": "code",
   "execution_count": 36,
   "id": "a63df50b",
   "metadata": {},
   "outputs": [
    {
     "data": {
      "image/png": "[encoded data removed]",
      "text/plain": [
       "<Figure size 648x432 with 1 Axes>"
      ]
     },
     "metadata": {
      "needs_background": "light"
     },
     "output_type": "display_data"
    }
   ],
   "source": [
    "# visualize 'opted_in_to_mailing_list'\n",
    "plt.figure(figsize=(9,6))\n",
    "sns.countplot(y='email_domain', hue='adopted_user', data=users_new)\n",
    "plt.title('Adopted User Status by Email Domain', fontsize=14);"
   ]
  },
  {
   "cell_type": "markdown",
   "id": "f75fe14e",
   "metadata": {},
   "source": [
    "### Data Preprocessing"
   ]
  },
  {
   "cell_type": "markdown",
   "id": "6dcafb6f",
   "metadata": {},
   "source": [
    "#### Encoding categorical features"
   ]
  },
  {
   "cell_type": "code",
   "execution_count": 37,
   "id": "519ecfdd",
   "metadata": {},
   "outputs": [],
   "source": [
    "# 'creation_source' and 'email_domain'\n",
    "users_encoded = pd.get_dummies(users_new, columns=['creation_source', 'email_domain'])"
   ]
  },
  {
   "cell_type": "code",
   "execution_count": 38,
   "id": "53fcfaa6",
   "metadata": {},
   "outputs": [
    {
     "name": "stdout",
     "output_type": "stream",
     "text": [
      "<class 'pandas.core.frame.DataFrame'>\n",
      "RangeIndex: 12000 entries, 0 to 11999\n",
      "Data columns (total 18 columns):\n",
      " #   Column                              Non-Null Count  Dtype  \n",
      "---  ------                              --------------  -----  \n",
      " 0   opted_in_to_mailing_list            12000 non-null  int64  \n",
      " 1   enabled_for_marketing_drip          12000 non-null  int64  \n",
      " 2   org_id                              12000 non-null  int64  \n",
      " 3   invited_by_user_id                  6417 non-null   float64\n",
      " 4   adopted_user                        8823 non-null   float64\n",
      " 5   days_since_signup                   8823 non-null   float64\n",
      " 6   creation_source_GUEST_INVITE        12000 non-null  uint8  \n",
      " 7   creation_source_ORG_INVITE          12000 non-null  uint8  \n",
      " 8   creation_source_PERSONAL_PROJECTS   12000 non-null  uint8  \n",
      " 9   creation_source_SIGNUP              12000 non-null  uint8  \n",
      " 10  creation_source_SIGNUP_GOOGLE_AUTH  12000 non-null  uint8  \n",
      " 11  email_domain_cuvox                  12000 non-null  uint8  \n",
      " 12  email_domain_gmail                  12000 non-null  uint8  \n",
      " 13  email_domain_gustr                  12000 non-null  uint8  \n",
      " 14  email_domain_hotmail                12000 non-null  uint8  \n",
      " 15  email_domain_jourrapide             12000 non-null  uint8  \n",
      " 16  email_domain_others                 12000 non-null  uint8  \n",
      " 17  email_domain_yahoo                  12000 non-null  uint8  \n",
      "dtypes: float64(3), int64(3), uint8(12)\n",
      "memory usage: 703.2 KB\n"
     ]
    }
   ],
   "source": [
    "users_encoded.info()"
   ]
  },
  {
   "cell_type": "code",
   "execution_count": 39,
   "id": "b0e0b61b",
   "metadata": {},
   "outputs": [],
   "source": [
    "# drop null values\n",
    "users_encoded = users_encoded.dropna()"
   ]
  },
  {
   "cell_type": "code",
   "execution_count": 40,
   "id": "14d8da76",
   "metadata": {},
   "outputs": [
    {
     "data": {
      "text/html": [
       "<div>\n",
       "<style scoped>\n",
       "    .dataframe tbody tr th:only-of-type {\n",
       "        vertical-align: middle;\n",
       "    }\n",
       "\n",
       "    .dataframe tbody tr th {\n",
       "        vertical-align: top;\n",
       "    }\n",
       "\n",
       "    .dataframe thead th {\n",
       "        text-align: right;\n",
       "    }\n",
       "</style>\n",
       "<table border=\"1\" class=\"dataframe\">\n",
       "  <thead>\n",
       "    <tr style=\"text-align: right;\">\n",
       "      <th></th>\n",
       "      <th>opted_in_to_mailing_list</th>\n",
       "      <th>enabled_for_marketing_drip</th>\n",
       "      <th>org_id</th>\n",
       "      <th>invited_by_user_id</th>\n",
       "      <th>adopted_user</th>\n",
       "      <th>days_since_signup</th>\n",
       "      <th>creation_source_GUEST_INVITE</th>\n",
       "      <th>creation_source_ORG_INVITE</th>\n",
       "      <th>creation_source_PERSONAL_PROJECTS</th>\n",
       "      <th>creation_source_SIGNUP</th>\n",
       "      <th>creation_source_SIGNUP_GOOGLE_AUTH</th>\n",
       "      <th>email_domain_cuvox</th>\n",
       "      <th>email_domain_gmail</th>\n",
       "      <th>email_domain_gustr</th>\n",
       "      <th>email_domain_hotmail</th>\n",
       "      <th>email_domain_jourrapide</th>\n",
       "      <th>email_domain_others</th>\n",
       "      <th>email_domain_yahoo</th>\n",
       "    </tr>\n",
       "  </thead>\n",
       "  <tbody>\n",
       "    <tr>\n",
       "      <th>0</th>\n",
       "      <td>1</td>\n",
       "      <td>0</td>\n",
       "      <td>11</td>\n",
       "      <td>10803.0</td>\n",
       "      <td>0.0</td>\n",
       "      <td>0.0</td>\n",
       "      <td>1</td>\n",
       "      <td>0</td>\n",
       "      <td>0</td>\n",
       "      <td>0</td>\n",
       "      <td>0</td>\n",
       "      <td>0</td>\n",
       "      <td>0</td>\n",
       "      <td>0</td>\n",
       "      <td>0</td>\n",
       "      <td>0</td>\n",
       "      <td>0</td>\n",
       "      <td>1</td>\n",
       "    </tr>\n",
       "    <tr>\n",
       "      <th>1</th>\n",
       "      <td>0</td>\n",
       "      <td>0</td>\n",
       "      <td>1</td>\n",
       "      <td>316.0</td>\n",
       "      <td>1.0</td>\n",
       "      <td>136.0</td>\n",
       "      <td>0</td>\n",
       "      <td>1</td>\n",
       "      <td>0</td>\n",
       "      <td>0</td>\n",
       "      <td>0</td>\n",
       "      <td>0</td>\n",
       "      <td>0</td>\n",
       "      <td>1</td>\n",
       "      <td>0</td>\n",
       "      <td>0</td>\n",
       "      <td>0</td>\n",
       "      <td>0</td>\n",
       "    </tr>\n",
       "    <tr>\n",
       "      <th>2</th>\n",
       "      <td>0</td>\n",
       "      <td>0</td>\n",
       "      <td>94</td>\n",
       "      <td>1525.0</td>\n",
       "      <td>0.0</td>\n",
       "      <td>0.0</td>\n",
       "      <td>0</td>\n",
       "      <td>1</td>\n",
       "      <td>0</td>\n",
       "      <td>0</td>\n",
       "      <td>0</td>\n",
       "      <td>0</td>\n",
       "      <td>0</td>\n",
       "      <td>1</td>\n",
       "      <td>0</td>\n",
       "      <td>0</td>\n",
       "      <td>0</td>\n",
       "      <td>0</td>\n",
       "    </tr>\n",
       "    <tr>\n",
       "      <th>3</th>\n",
       "      <td>0</td>\n",
       "      <td>0</td>\n",
       "      <td>1</td>\n",
       "      <td>5151.0</td>\n",
       "      <td>0.0</td>\n",
       "      <td>1.0</td>\n",
       "      <td>1</td>\n",
       "      <td>0</td>\n",
       "      <td>0</td>\n",
       "      <td>0</td>\n",
       "      <td>0</td>\n",
       "      <td>0</td>\n",
       "      <td>0</td>\n",
       "      <td>0</td>\n",
       "      <td>0</td>\n",
       "      <td>0</td>\n",
       "      <td>0</td>\n",
       "      <td>1</td>\n",
       "    </tr>\n",
       "    <tr>\n",
       "      <th>4</th>\n",
       "      <td>0</td>\n",
       "      <td>0</td>\n",
       "      <td>193</td>\n",
       "      <td>5240.0</td>\n",
       "      <td>0.0</td>\n",
       "      <td>5.0</td>\n",
       "      <td>1</td>\n",
       "      <td>0</td>\n",
       "      <td>0</td>\n",
       "      <td>0</td>\n",
       "      <td>0</td>\n",
       "      <td>0</td>\n",
       "      <td>0</td>\n",
       "      <td>0</td>\n",
       "      <td>0</td>\n",
       "      <td>0</td>\n",
       "      <td>0</td>\n",
       "      <td>1</td>\n",
       "    </tr>\n",
       "  </tbody>\n",
       "</table>\n",
       "</div>"
      ],
      "text/plain": [
       "   opted_in_to_mailing_list  enabled_for_marketing_drip  org_id  \\\n",
       "0                         1                           0      11   \n",
       "1                         0                           0       1   \n",
       "2                         0                           0      94   \n",
       "3                         0                           0       1   \n",
       "4                         0                           0     193   \n",
       "\n",
       "   invited_by_user_id  adopted_user  days_since_signup  \\\n",
       "0             10803.0           0.0                0.0   \n",
       "1               316.0           1.0              136.0   \n",
       "2              1525.0           0.0                0.0   \n",
       "3              5151.0           0.0                1.0   \n",
       "4              5240.0           0.0                5.0   \n",
       "\n",
       "   creation_source_GUEST_INVITE  creation_source_ORG_INVITE  \\\n",
       "0                             1                           0   \n",
       "1                             0                           1   \n",
       "2                             0                           1   \n",
       "3                             1                           0   \n",
       "4                             1                           0   \n",
       "\n",
       "   creation_source_PERSONAL_PROJECTS  creation_source_SIGNUP  \\\n",
       "0                                  0                       0   \n",
       "1                                  0                       0   \n",
       "2                                  0                       0   \n",
       "3                                  0                       0   \n",
       "4                                  0                       0   \n",
       "\n",
       "   creation_source_SIGNUP_GOOGLE_AUTH  email_domain_cuvox  email_domain_gmail  \\\n",
       "0                                   0                   0                   0   \n",
       "1                                   0                   0                   0   \n",
       "2                                   0                   0                   0   \n",
       "3                                   0                   0                   0   \n",
       "4                                   0                   0                   0   \n",
       "\n",
       "   email_domain_gustr  email_domain_hotmail  email_domain_jourrapide  \\\n",
       "0                   0                     0                        0   \n",
       "1                   1                     0                        0   \n",
       "2                   1                     0                        0   \n",
       "3                   0                     0                        0   \n",
       "4                   0                     0                        0   \n",
       "\n",
       "   email_domain_others  email_domain_yahoo  \n",
       "0                    0                   1  \n",
       "1                    0                   0  \n",
       "2                    0                   0  \n",
       "3                    0                   1  \n",
       "4                    0                   1  "
      ]
     },
     "execution_count": 40,
     "metadata": {},
     "output_type": "execute_result"
    }
   ],
   "source": [
    "users_encoded.head()"
   ]
  },
  {
   "cell_type": "code",
   "execution_count": 41,
   "id": "7e06e37d",
   "metadata": {},
   "outputs": [
    {
     "data": {
      "image/png": "[encoded data removed]",
      "text/plain": [
       "<Figure size 648x648 with 2 Axes>"
      ]
     },
     "metadata": {
      "needs_background": "light"
     },
     "output_type": "display_data"
    }
   ],
   "source": [
    "corr = users_encoded.corr()\n",
    "plt.figure(figsize=(9,9))\n",
    "sns.heatmap(corr, annot=True,cmap=\"viridis\");"
   ]
  },
  {
   "cell_type": "code",
   "execution_count": 42,
   "id": "d364a807",
   "metadata": {},
   "outputs": [
    {
     "data": {
      "text/html": [
       "<style type=\"text/css\">\n",
       "#T_cded1_row0_col2 {\n",
       "  background-color: #e41a1c;\n",
       "  color: #f1f1f1;\n",
       "}\n",
       "#T_cded1_row1_col2 {\n",
       "  background-color: #984ea3;\n",
       "  color: #f1f1f1;\n",
       "}\n",
       "#T_cded1_row2_col2 {\n",
       "  background-color: #999999;\n",
       "  color: #f1f1f1;\n",
       "}\n",
       "</style>\n",
       "<table id=\"T_cded1_\">\n",
       "  <thead>\n",
       "    <tr>\n",
       "      <th class=\"blank level0\" >&nbsp;</th>\n",
       "      <th class=\"col_heading level0 col0\" >feature 1</th>\n",
       "      <th class=\"col_heading level0 col1\" >feature 2</th>\n",
       "      <th class=\"col_heading level0 col2\" >Correlation</th>\n",
       "    </tr>\n",
       "  </thead>\n",
       "  <tbody>\n",
       "    <tr>\n",
       "      <th id=\"T_cded1_level0_row0\" class=\"row_heading level0 row0\" >0</th>\n",
       "      <td id=\"T_cded1_row0_col0\" class=\"data row0 col0\" >creation_source_GUEST_INVITE</td>\n",
       "      <td id=\"T_cded1_row0_col1\" class=\"data row0 col1\" >creation_source_ORG_INVITE</td>\n",
       "      <td id=\"T_cded1_row0_col2\" class=\"data row0 col2\" >1.000000</td>\n",
       "    </tr>\n",
       "    <tr>\n",
       "      <th id=\"T_cded1_level0_row1\" class=\"row_heading level0 row1\" >1</th>\n",
       "      <td id=\"T_cded1_row1_col0\" class=\"data row1 col0\" >adopted_user</td>\n",
       "      <td id=\"T_cded1_row1_col1\" class=\"data row1 col1\" >days_since_signup</td>\n",
       "      <td id=\"T_cded1_row1_col2\" class=\"data row1 col2\" >0.782294</td>\n",
       "    </tr>\n",
       "    <tr>\n",
       "      <th id=\"T_cded1_level0_row2\" class=\"row_heading level0 row2\" >2</th>\n",
       "      <td id=\"T_cded1_row2_col0\" class=\"data row2 col0\" >opted_in_to_mailing_list</td>\n",
       "      <td id=\"T_cded1_row2_col1\" class=\"data row2 col1\" >enabled_for_marketing_drip</td>\n",
       "      <td id=\"T_cded1_row2_col2\" class=\"data row2 col2\" >0.493088</td>\n",
       "    </tr>\n",
       "  </tbody>\n",
       "</table>\n"
      ],
      "text/plain": [
       "<pandas.io.formats.style.Styler at 0x1afc721c4c8>"
      ]
     },
     "execution_count": 42,
     "metadata": {},
     "output_type": "execute_result"
    }
   ],
   "source": [
    "c = corr.abs().unstack().drop_duplicates().reset_index()\n",
    "c = c.rename(columns={'level_0': 'feature 1', 'level_1': 'feature 2', 0: 'Correlation'})\n",
    "c = c.query('.3 <= Correlation < 1').sort_values(by = 'Correlation', ascending = False).reset_index(drop=True)\n",
    "c.style.background_gradient(cmap='Set1_r')"
   ]
  },
  {
   "cell_type": "markdown",
   "id": "78b5655d",
   "metadata": {},
   "source": [
    "#### Train/Test Split"
   ]
  },
  {
   "cell_type": "code",
   "execution_count": 43,
   "id": "d310803d",
   "metadata": {},
   "outputs": [],
   "source": [
    "#Split dataset into target and features\n",
    "X = users_encoded.drop('adopted_user', axis=1)\n",
    "y = users_encoded['adopted_user']"
   ]
  },
  {
   "cell_type": "code",
   "execution_count": 44,
   "id": "aa1a6399",
   "metadata": {},
   "outputs": [],
   "source": [
    "#Split into train and test datasets\n",
    "X_train, X_test, y_train, y_test = train_test_split(X, y, test_size=0.2, random_state=42)"
   ]
  },
  {
   "cell_type": "code",
   "execution_count": 45,
   "id": "663c585f",
   "metadata": {},
   "outputs": [
    {
     "data": {
      "text/plain": [
       "GridSearchCV(cv=5, estimator=LogisticRegression(),\n",
       "             param_grid={'C': [0.001, 0.01, 0.1],\n",
       "                         'tol': [1e-05, 0.0001, 0.001]},\n",
       "             scoring='roc_auc')"
      ]
     },
     "execution_count": 45,
     "metadata": {},
     "output_type": "execute_result"
    }
   ],
   "source": [
    "# for a binary problem ==> Logistic Regression is used\n",
    "lr = LogisticRegression()\n",
    "\n",
    "#Build grid cearch for hyperparameter optimization\n",
    "from sklearn.model_selection import GridSearchCV\n",
    "parameters = {'C':[0.001, 0.01, 0.1], \n",
    "             'tol':[1e-5, 1e-4, 1e-3]}\n",
    "\n",
    "clf = GridSearchCV(lr, parameters, cv=5, scoring='roc_auc')\n",
    "clf.fit(X_train, y_train)"
   ]
  },
  {
   "cell_type": "code",
   "execution_count": 46,
   "id": "6248df8c",
   "metadata": {},
   "outputs": [
    {
     "data": {
      "text/plain": [
       "{'C': 0.001, 'tol': 1e-05}"
      ]
     },
     "execution_count": 46,
     "metadata": {},
     "output_type": "execute_result"
    }
   ],
   "source": [
    "clf.best_params_"
   ]
  },
  {
   "cell_type": "code",
   "execution_count": 47,
   "id": "01eed814",
   "metadata": {},
   "outputs": [],
   "source": [
    "#Training the Logistic Regression Model with the best parameters\n",
    "lr = LogisticRegression(C=0.001, tol=1e-5, random_state=42)\n",
    "lr.fit(X_train, y_train)\n",
    "y_pred = lr.predict(X_test)"
   ]
  },
  {
   "cell_type": "code",
   "execution_count": 48,
   "id": "fd96f918",
   "metadata": {},
   "outputs": [
    {
     "name": "stdout",
     "output_type": "stream",
     "text": [
      "                  precision    recall  f1-score   support\n",
      "\n",
      "not adopted_user       0.97      0.98      0.98       762\n",
      "    adopted_user       0.93      0.88      0.90       194\n",
      "\n",
      "        accuracy                           0.96       956\n",
      "       macro avg       0.95      0.93      0.94       956\n",
      "    weighted avg       0.96      0.96      0.96       956\n",
      "\n"
     ]
    }
   ],
   "source": [
    "print (classification_report(y_test, y_pred, target_names=['not adopted_user', 'adopted_user']))"
   ]
  },
  {
   "cell_type": "code",
   "execution_count": 49,
   "id": "e5cfaf12",
   "metadata": {},
   "outputs": [
    {
     "data": {
      "image/png": "[encoded data removed]",
      "text/plain": [
       "<Figure size 432x288 with 2 Axes>"
      ]
     },
     "metadata": {
      "needs_background": "light"
     },
     "output_type": "display_data"
    }
   ],
   "source": [
    "cf=confusion_matrix(y_test, y_pred)\n",
    "\n",
    "ConfusionMatrixDisplay(cf).plot(cmap='Blues')\n",
    "plt.grid(False)\n",
    "plt.show();"
   ]
  },
  {
   "cell_type": "code",
   "execution_count": 50,
   "id": "72dcc634",
   "metadata": {},
   "outputs": [
    {
     "name": "stdout",
     "output_type": "stream",
     "text": [
      "ROC_AUC: 0.9893524907324728\n"
     ]
    },
    {
     "data": {
      "image/png": "[encoded data removed]",
      "text/plain": [
       "<Figure size 432x288 with 1 Axes>"
      ]
     },
     "metadata": {
      "needs_background": "light"
     },
     "output_type": "display_data"
    }
   ],
   "source": [
    "# Compute predicted probabilities: y_pred_prob\n",
    "y_pred_prob = lr.predict_proba(X_test)[:,1]\n",
    "\n",
    "# Compute and print AUC score\n",
    "print(\"ROC_AUC: {}\".format(roc_auc_score(y_test, y_pred_prob)))\n",
    "\n",
    "# Generate ROC curve values: fpr, tpr, thresholds\n",
    "fpr, tpr, thresholds = roc_curve(y_test, y_pred_prob)\n",
    "\n",
    "# Plot ROC curve\n",
    "plt.plot([0, 1], [0, 1], 'r--')\n",
    "plt.plot(fpr, tpr)\n",
    "plt.xlabel('False Positive Rate')\n",
    "plt.ylabel('True Positive Rate')\n",
    "plt.title('ROC Curve')\n",
    "plt.show();"
   ]
  },
  {
   "cell_type": "code",
   "execution_count": 51,
   "id": "903ffeed",
   "metadata": {},
   "outputs": [],
   "source": [
    "#Explore feature importance \n",
    "coefficients = abs(lr.coef_).transpose()\n",
    "features = X.columns"
   ]
  },
  {
   "cell_type": "code",
   "execution_count": 52,
   "id": "aa67572c",
   "metadata": {},
   "outputs": [
    {
     "data": {
      "text/html": [
       "<div>\n",
       "<style scoped>\n",
       "    .dataframe tbody tr th:only-of-type {\n",
       "        vertical-align: middle;\n",
       "    }\n",
       "\n",
       "    .dataframe tbody tr th {\n",
       "        vertical-align: top;\n",
       "    }\n",
       "\n",
       "    .dataframe thead th {\n",
       "        text-align: right;\n",
       "    }\n",
       "</style>\n",
       "<table border=\"1\" class=\"dataframe\">\n",
       "  <thead>\n",
       "    <tr style=\"text-align: right;\">\n",
       "      <th></th>\n",
       "      <th>feature_importance</th>\n",
       "    </tr>\n",
       "  </thead>\n",
       "  <tbody>\n",
       "    <tr>\n",
       "      <th>days_since_signup</th>\n",
       "      <td>0.060568</td>\n",
       "    </tr>\n",
       "    <tr>\n",
       "      <th>email_domain_jourrapide</th>\n",
       "      <td>0.007174</td>\n",
       "    </tr>\n",
       "    <tr>\n",
       "      <th>email_domain_gmail</th>\n",
       "      <td>0.005950</td>\n",
       "    </tr>\n",
       "    <tr>\n",
       "      <th>creation_source_ORG_INVITE</th>\n",
       "      <td>0.004267</td>\n",
       "    </tr>\n",
       "    <tr>\n",
       "      <th>creation_source_GUEST_INVITE</th>\n",
       "      <td>0.004081</td>\n",
       "    </tr>\n",
       "  </tbody>\n",
       "</table>\n",
       "</div>"
      ],
      "text/plain": [
       "                              feature_importance\n",
       "days_since_signup                       0.060568\n",
       "email_domain_jourrapide                 0.007174\n",
       "email_domain_gmail                      0.005950\n",
       "creation_source_ORG_INVITE              0.004267\n",
       "creation_source_GUEST_INVITE            0.004081"
      ]
     },
     "execution_count": 52,
     "metadata": {},
     "output_type": "execute_result"
    }
   ],
   "source": [
    "feature_importance = {}\n",
    "for i, coef in enumerate(coefficients):\n",
    "    feature_importance[features[i]] = coef\n",
    "    \n",
    "feature_importance_df = pd.DataFrame.from_dict(feature_importance, orient='index', columns=['feature_importance'])\n",
    "feature_importance_df.sort_values('feature_importance', ascending=False).head()"
   ]
  },
  {
   "cell_type": "markdown",
   "id": "6817dec5",
   "metadata": {},
   "source": [
    "### Conclusion"
   ]
  },
  {
   "cell_type": "markdown",
   "id": "08e30323",
   "metadata": {},
   "source": [
    " - To solve this binary classification problem, I trained a logistic regression model to predict whether a user is an adopted user.\n",
    " - The Top 5 most important features in this model are:\n",
    "     - 'days_since_signup'\n",
    "     - 'email_domain_jourrapide\t'\n",
    "     - 'email_domain_gmail'\n",
    "     - 'creation_source_ORG_INVITE'\n",
    "     - 'creation_source_GUEST_INVITE''\n",
    "     \n",
    " - The feature 'days_since_signup' could possibly be the most important factor to determine whether a user would be adopted or not. Surprisingly, 'email_domain_jourrapide' and 'email_domain_gmail' play such an important role in this model. The model has a very high auc_roc of 99% which gives us an idea that the model is performing well in general."
   ]
  }
 ],
 "metadata": {
  "kernelspec": {
   "display_name": "Python 3",
   "language": "python",
   "name": "python3"
  },
  "language_info": {
   "codemirror_mode": {
    "name": "ipython",
    "version": 3
   },
   "file_extension": ".py",
   "mimetype": "text/x-python",
   "name": "python",
   "nbconvert_exporter": "python",
   "pygments_lexer": "ipython3",
   "version": "3.7.11"
  },
  "toc": {
   "base_numbering": 1,
   "nav_menu": {},
   "number_sections": false,
   "sideBar": true,
   "skip_h1_title": true,
   "title_cell": "Table of Contents",
   "title_sidebar": "Contents",
   "toc_cell": false,
   "toc_position": {},
   "toc_section_display": true,
   "toc_window_display": false
  }
 },
 "nbformat": 4,
 "nbformat_minor": 5
}
